{
 "cells": [
  {
   "cell_type": "markdown",
   "id": "561adac0",
   "metadata": {},
   "source": [
    "# Numpy Practice"
   ]
  },
  {
   "cell_type": "code",
   "execution_count": 18,
   "id": "5886d04a",
   "metadata": {},
   "outputs": [],
   "source": [
    "import numpy as np"
   ]
  },
  {
   "cell_type": "code",
   "execution_count": 35,
   "id": "1bff54c1",
   "metadata": {},
   "outputs": [],
   "source": [
    "list1d = np.array([1,2,3])\n",
    "list2d = np.array([[1,2,3],[3,4,5]])\n",
    "list3d = np.array([[[1,2],[4,5],[3,6]],\n",
    "                   [[4,5],[5,6],[7,8]]])"
   ]
  },
  {
   "cell_type": "code",
   "execution_count": 36,
   "id": "862e15c1",
   "metadata": {},
   "outputs": [
    {
     "name": "stdout",
     "output_type": "stream",
     "text": [
      "-------------1d list------------\n",
      " [1 2 3]\n",
      "-------------2d lis-------------\n",
      " [[1 2 3]\n",
      " [3 4 5]]\n",
      "-------------3d list------------\n",
      " [[[1 2]\n",
      "  [4 5]\n",
      "  [3 6]]\n",
      "\n",
      " [[4 5]\n",
      "  [5 6]\n",
      "  [7 8]]]\n"
     ]
    }
   ],
   "source": [
    "print(\"-------------1d list------------\\n\", list1d)\n",
    "print(\"-------------2d lis-------------\\n\", list2d)\n",
    "print(\"-------------3d list------------\\n\", list3d)"
   ]
  },
  {
   "cell_type": "markdown",
   "id": "fce7f467",
   "metadata": {},
   "source": [
    "## Dimensions, Size, type"
   ]
  },
  {
   "cell_type": "code",
   "execution_count": 37,
   "id": "bb162624",
   "metadata": {},
   "outputs": [
    {
     "name": "stdout",
     "output_type": "stream",
     "text": [
      "int64\n"
     ]
    }
   ],
   "source": [
    "listtype = list1d.dtype\n",
    "print(listtype)"
   ]
  },
  {
   "cell_type": "code",
   "execution_count": 38,
   "id": "cccc51b1",
   "metadata": {},
   "outputs": [
    {
     "name": "stdout",
     "output_type": "stream",
     "text": [
      "int16\n"
     ]
    }
   ],
   "source": [
    "#setting a type\n",
    "listSmall = np.array([[1,2,3],[4,5,6]], dtype = 'int16')\n",
    "print(listSmall.dtype)"
   ]
  },
  {
   "cell_type": "code",
   "execution_count": 41,
   "id": "0e81b6c5",
   "metadata": {},
   "outputs": [
    {
     "name": "stdout",
     "output_type": "stream",
     "text": [
      "1d array shape =  (3,)\n",
      "2d array shape =  (2, 3)\n",
      "3d array shape =  (2, 3, 2)\n"
     ]
    }
   ],
   "source": [
    "print(\"1d array shape = \" , list1d.shape)\n",
    "print(\"2d array shape = \" , list2d.shape)\n",
    "print(\"3d array shape = \" , list3d.shape)"
   ]
  },
  {
   "cell_type": "code",
   "execution_count": 42,
   "id": "14ae9c4f",
   "metadata": {},
   "outputs": [
    {
     "name": "stdout",
     "output_type": "stream",
     "text": [
      "1d array dimension =  1\n",
      "2d array dimension =  2\n",
      "3d array dimension =  3\n"
     ]
    }
   ],
   "source": [
    "print(\"1d array dimension = \", list1d.ndim)\n",
    "print(\"2d array dimension = \", list2d.ndim)\n",
    "print(\"3d array dimension = \", list3d.ndim)"
   ]
  },
  {
   "cell_type": "code",
   "execution_count": null,
   "id": "6d2e85d0",
   "metadata": {},
   "outputs": [],
   "source": []
  }
 ],
 "metadata": {
  "kernelspec": {
   "display_name": "Python 3 (ipykernel)",
   "language": "python",
   "name": "python3"
  },
  "language_info": {
   "codemirror_mode": {
    "name": "ipython",
    "version": 3
   },
   "file_extension": ".py",
   "mimetype": "text/x-python",
   "name": "python",
   "nbconvert_exporter": "python",
   "pygments_lexer": "ipython3",
   "version": "3.9.6"
  }
 },
 "nbformat": 4,
 "nbformat_minor": 5
}
