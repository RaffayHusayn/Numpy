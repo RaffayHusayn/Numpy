{
 "cells": [
  {
   "cell_type": "markdown",
   "id": "561adac0",
   "metadata": {},
   "source": [
    "# Numpy Practice"
   ]
  },
  {
   "cell_type": "code",
   "execution_count": 18,
   "id": "5886d04a",
   "metadata": {},
   "outputs": [],
   "source": [
    "import numpy as np"
   ]
  },
  {
   "cell_type": "code",
   "execution_count": 35,
   "id": "d0860e9f",
   "metadata": {},
   "outputs": [],
   "source": [
    "list1d = np.array([1,2,3])\n",
    "list2d = np.array([[1,2,3],[3,4,5]])\n",
    "list3d = np.array([[[1,2],[4,5],[3,6]],\n",
    "                   [[4,5],[5,6],[7,8]]])"
   ]
  },
  {
   "cell_type": "code",
   "execution_count": 36,
   "id": "d3a05913",
   "metadata": {},
   "outputs": [
    {
     "name": "stdout",
     "output_type": "stream",
     "text": [
      "-------------1d list------------\n",
      " [1 2 3]\n",
      "-------------2d lis-------------\n",
      " [[1 2 3]\n",
      " [3 4 5]]\n",
      "-------------3d list------------\n",
      " [[[1 2]\n",
      "  [4 5]\n",
      "  [3 6]]\n",
      "\n",
      " [[4 5]\n",
      "  [5 6]\n",
      "  [7 8]]]\n"
     ]
    }
   ],
   "source": [
    "print(\"-------------1d list------------\\n\", list1d)\n",
    "print(\"-------------2d lis-------------\\n\", list2d)\n",
    "print(\"-------------3d list------------\\n\", list3d)"
   ]
  },
  {
   "cell_type": "markdown",
   "id": "4049a864",
   "metadata": {},
   "source": [
    "# Dimensions, Size, type, Shape"
   ]
  },
  {
   "cell_type": "code",
   "execution_count": 37,
   "id": "72396aac",
   "metadata": {},
   "outputs": [
    {
     "name": "stdout",
     "output_type": "stream",
     "text": [
      "int64\n"
     ]
    }
   ],
   "source": [
    "listtype = list1d.dtype\n",
    "print(listtype)"
   ]
  },
  {
   "cell_type": "code",
   "execution_count": 38,
   "id": "3b7294b7",
   "metadata": {},
   "outputs": [
    {
     "name": "stdout",
     "output_type": "stream",
     "text": [
      "int16\n"
     ]
    }
   ],
   "source": [
    "\n",
    "listSmall = np.array([[1,2,3],[4,5,6]], dtype = 'int16')\n",
    "print(listSmall.dtype)"
   ]
  },
  {
   "cell_type": "code",
   "execution_count": 41,
   "id": "d7512cc4",
   "metadata": {},
   "outputs": [
    {
     "name": "stdout",
     "output_type": "stream",
     "text": [
      "1d array shape =  (3,)\n",
      "2d array shape =  (2, 3)\n",
      "3d array shape =  (2, 3, 2)\n"
     ]
    }
   ],
   "source": [
    "print(\"1d array shape = \" , list1d.shape)\n",
    "print(\"2d array shape = \" , list2d.shape)\n",
    "print(\"3d array shape = \" , list3d.shape)"
   ]
  },
  {
   "cell_type": "code",
   "execution_count": 42,
   "id": "14d1accb",
   "metadata": {},
   "outputs": [
    {
     "name": "stdout",
     "output_type": "stream",
     "text": [
      "1d array dimension =  1\n",
      "2d array dimension =  2\n",
      "3d array dimension =  3\n"
     ]
    }
   ],
   "source": [
    "print(\"1d array dimension = \", list1d.ndim)\n",
    "print(\"2d array dimension = \", list2d.ndim)\n",
    "print(\"3d array dimension = \", list3d.ndim)"
   ]
  },
  {
   "cell_type": "code",
   "execution_count": 50,
   "id": "1d53ee76",
   "metadata": {},
   "outputs": [
    {
     "name": "stdout",
     "output_type": "stream",
     "text": [
      "total elements in 1d list 3\n",
      "total elements in 2d list 6\n",
      "Total elements in 3d list 12\n"
     ]
    }
   ],
   "source": [
    "print(\"total elements in 1d list\", list1d.size)\n",
    "print(\"total elements in 2d list\", list2d.size)\n",
    "print(\"Total elements in 3d list\", list3d.size)\n"
   ]
  },
  {
   "cell_type": "code",
   "execution_count": 52,
   "id": "b1cc82d9",
   "metadata": {},
   "outputs": [
    {
     "name": "stdout",
     "output_type": "stream",
     "text": [
      "each item in list1d with dtype =  int64 takes bytes =  8\n"
     ]
    }
   ],
   "source": [
    "print(\"Each item in list1d with dtype = \", list1d.dtype, \"takes bytes = \", list1d.itemsize)"
   ]
  },
  {
   "cell_type": "code",
   "execution_count": 53,
   "id": "f06475e0",
   "metadata": {},
   "outputs": [
    {
     "name": "stdout",
     "output_type": "stream",
     "text": [
      "Each item in listSmall with dtype =  int16 Takes bytes =  2\n"
     ]
    }
   ],
   "source": [
    "print(\"Each item in listSmall with dtype = \", listSmall.dtype , \"Takes bytes = \", listSmall.itemsize)"
   ]
  },
  {
   "cell_type": "code",
   "execution_count": null,
   "id": "ad3e8801",
   "metadata": {},
   "outputs": [],
   "source": []
  }
 ],
 "metadata": {
  "kernelspec": {
   "display_name": "Python 3 (ipykernel)",
   "language": "python",
   "name": "python3"
  },
  "language_info": {
   "codemirror_mode": {
    "name": "ipython",
    "version": 3
   },
   "file_extension": ".py",
   "mimetype": "text/x-python",
   "name": "python",
   "nbconvert_exporter": "python",
   "pygments_lexer": "ipython3",
   "version": "3.9.6"
  }
 },
 "nbformat": 4,
 "nbformat_minor": 5
}
