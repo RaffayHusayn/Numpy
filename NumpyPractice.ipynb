{
 "cells": [
  {
   "cell_type": "markdown",
   "id": "561adac0",
   "metadata": {},
   "source": [
    "# Numpy Practice"
   ]
  },
  {
   "cell_type": "code",
   "execution_count": 18,
   "id": "5886d04a",
   "metadata": {},
   "outputs": [],
   "source": [
    "import numpy as np"
   ]
  },
  {
   "cell_type": "code",
   "execution_count": 35,
   "id": "9d7456b8",
   "metadata": {},
   "outputs": [],
   "source": [
    "list1d = np.array([1,2,3])\n",
    "list2d = np.array([[1,2,3],[3,4,5]])\n",
    "list3d = np.array([[[1,2],[4,5],[3,6]],\n",
    "                   [[4,5],[5,6],[7,8]]])"
   ]
  },
  {
   "cell_type": "code",
   "execution_count": 36,
   "id": "c0933982",
   "metadata": {},
   "outputs": [
    {
     "name": "stdout",
     "output_type": "stream",
     "text": [
      "-------------1d list------------\n",
      " [1 2 3]\n",
      "-------------2d lis-------------\n",
      " [[1 2 3]\n",
      " [3 4 5]]\n",
      "-------------3d list------------\n",
      " [[[1 2]\n",
      "  [4 5]\n",
      "  [3 6]]\n",
      "\n",
      " [[4 5]\n",
      "  [5 6]\n",
      "  [7 8]]]\n"
     ]
    }
   ],
   "source": [
    "print(\"-------------1d list------------\\n\", list1d)\n",
    "print(\"-------------2d lis-------------\\n\", list2d)\n",
    "print(\"-------------3d list------------\\n\", list3d)"
   ]
  },
  {
   "cell_type": "markdown",
   "id": "25fa0bfd",
   "metadata": {},
   "source": [
    "# Dimensions, Size, type, Shape"
   ]
  },
  {
   "cell_type": "code",
   "execution_count": 37,
   "id": "e1e52e38",
   "metadata": {},
   "outputs": [
    {
     "name": "stdout",
     "output_type": "stream",
     "text": [
      "int64\n"
     ]
    }
   ],
   "source": [
    "listtype = list1d.dtype\n",
    "print(listtype)"
   ]
  },
  {
   "cell_type": "code",
   "execution_count": 38,
   "id": "dd5897c5",
   "metadata": {},
   "outputs": [
    {
     "name": "stdout",
     "output_type": "stream",
     "text": [
      "int16\n"
     ]
    }
   ],
   "source": [
    "\n",
    "listSmall = np.array([[1,2,3],[4,5,6]], dtype = 'int16')\n",
    "print(listSmall.dtype)"
   ]
  },
  {
   "cell_type": "code",
   "execution_count": 41,
   "id": "12471e9f",
   "metadata": {},
   "outputs": [
    {
     "name": "stdout",
     "output_type": "stream",
     "text": [
      "1d array shape =  (3,)\n",
      "2d array shape =  (2, 3)\n",
      "3d array shape =  (2, 3, 2)\n"
     ]
    }
   ],
   "source": [
    "print(\"1d array shape = \" , list1d.shape)\n",
    "print(\"2d array shape = \" , list2d.shape)\n",
    "print(\"3d array shape = \" , list3d.shape)"
   ]
  },
  {
   "cell_type": "code",
   "execution_count": 42,
   "id": "ec4b7029",
   "metadata": {},
   "outputs": [
    {
     "name": "stdout",
     "output_type": "stream",
     "text": [
      "1d array dimension =  1\n",
      "2d array dimension =  2\n",
      "3d array dimension =  3\n"
     ]
    }
   ],
   "source": [
    "print(\"1d array dimension = \", list1d.ndim)\n",
    "print(\"2d array dimension = \", list2d.ndim)\n",
    "print(\"3d array dimension = \", list3d.ndim)"
   ]
  },
  {
   "cell_type": "code",
   "execution_count": 50,
   "id": "1160cdfc",
   "metadata": {},
   "outputs": [
    {
     "name": "stdout",
     "output_type": "stream",
     "text": [
      "total elements in 1d list 3\n",
      "total elements in 2d list 6\n",
      "Total elements in 3d list 12\n"
     ]
    }
   ],
   "source": [
    "print(\"total elements in 1d list\", list1d.size)\n",
    "print(\"total elements in 2d list\", list2d.size)\n",
    "print(\"Total elements in 3d list\", list3d.size)\n"
   ]
  },
  {
   "cell_type": "code",
   "execution_count": 52,
   "id": "c836ac6c",
   "metadata": {},
   "outputs": [
    {
     "name": "stdout",
     "output_type": "stream",
     "text": [
      "each item in list1d with dtype =  int64 takes bytes =  8\n"
     ]
    }
   ],
   "source": [
    "print(\"Each item in list1d with dtype = \", list1d.dtype, \"takes bytes = \", list1d.itemsize)"
   ]
  },
  {
   "cell_type": "code",
   "execution_count": 53,
   "id": "16c2ef49",
   "metadata": {},
   "outputs": [
    {
     "name": "stdout",
     "output_type": "stream",
     "text": [
      "Each item in listSmall with dtype =  int16 Takes bytes =  2\n"
     ]
    }
   ],
   "source": [
    "print(\"Each item in listSmall with dtype = \", listSmall.dtype , \"Takes bytes = \", listSmall.itemsize)"
   ]
  },
  {
   "cell_type": "markdown",
   "id": "574db0a3",
   "metadata": {},
   "source": [
    "## Total No of Bytes in Array"
   ]
  },
  {
   "cell_type": "code",
   "execution_count": 55,
   "id": "c241301a",
   "metadata": {},
   "outputs": [
    {
     "name": "stdout",
     "output_type": "stream",
     "text": [
      "total bytes taken by 1d array =  24\n",
      "\n",
      " Or \n",
      "\n",
      "Total bytes can also be calculated with .nbytes as =  24\n"
     ]
    }
   ],
   "source": [
    "print(\"total bytes taken by 1d array = \", list1d.itemsize*list1d.size)\n",
    "print(\"\\n Or \\n\")\n",
    "print(\"Total bytes can also be calculated with .nbytes as = \", list1d.nbytes)\n"
   ]
  },
  {
   "cell_type": "markdown",
   "id": "b8317622",
   "metadata": {},
   "source": [
    "# Accessing Specific Elements"
   ]
  },
  {
   "cell_type": "code",
   "execution_count": 62,
   "id": "937ea17c",
   "metadata": {},
   "outputs": [
    {
     "name": "stdout",
     "output_type": "stream",
     "text": [
      "3d Array =  [[[1 2]\n",
      "  [4 5]\n",
      "  [3 6]]\n",
      "\n",
      " [[4 5]\n",
      "  [5 6]\n",
      "  [7 8]]]  \n",
      " \n",
      "with shape =  (2, 3, 2)\n"
     ]
    }
   ],
   "source": [
    "print(\"3d Array = \", list3d , \" \\n \\nwith shape = \", list3d.shape)"
   ]
  },
  {
   "cell_type": "code",
   "execution_count": 65,
   "id": "2c2b15a8",
   "metadata": {},
   "outputs": [
    {
     "data": {
      "text/plain": [
       "7"
      ]
     },
     "execution_count": 65,
     "metadata": {},
     "output_type": "execute_result"
    }
   ],
   "source": [
    " # Access the 7\n",
    "\n",
    "list3d[1,2,0] #BECAUSE THERE ARE 2 ELEMENTS IN 3RD DIMENSION AND WE WANT THE SECOND ONE\n",
    "#BECAUSE THERE ARE 3 ELEMENTS IN EACH 2ND DIMENSION AND WE WANT THE LAST ONE IE THIRD ONE\n",
    "#BECAUSE THERE ARE 2 ELEMENTS IN EACH SMALLEST ARRAY AND WE WANT THE FIRST ONE"
   ]
  },
  {
   "cell_type": "markdown",
   "id": "709d43bb",
   "metadata": {},
   "source": [
    "# 3d Array looks like this\n",
    "\n",
    "```\n",
    "[ ---------------------------------------------------------------\n",
    " [------------------------------------------                     |\n",
    "  [1,2], --------> 2 elements  (first Dim) |                     |\n",
    "  [4,5],                                   |---> 3 elements(2nd  |\n",
    "  [3,6]                                    |        Dimension)   |\n",
    "        ],----------------------------------                     |\n",
    "                                                                 |\n",
    " [                                                   |-> 2 elements (3rd Dim)\n",
    "  [4,5],                                                         |\n",
    "  [5,6],                                                         |\n",
    "  [7,8]                                                          |\n",
    "        ]                                                        |\n",
    "          ]-------------------------------------------------------\n",
    "```\n"
   ]
  },
  {
   "cell_type": "code",
   "execution_count": 70,
   "id": "e8e5104f",
   "metadata": {},
   "outputs": [
    {
     "name": "stdout",
     "output_type": "stream",
     "text": [
      " The first 5 =  5\n",
      "\n",
      " The second 5 =  5\n",
      "\n",
      " The First 6 =  6\n",
      "\n",
      " The second 6 =  6\n"
     ]
    }
   ],
   "source": [
    "# Access the first 5\n",
    "print(\" The first 5 = \", list3d[0,1,1])\n",
    "\n",
    "#Access the second 5\n",
    "print(\"\\n The second 5 = \", list3d[1,0,1])\n",
    "\n",
    "#Access the first 6\n",
    "print(\"\\n The First 6 = \", list3d[0,2,1])\n",
    "\n",
    "#Access the second 6\n",
    "print(\"\\n The second 6 = \", list3d[1,1,1])"
   ]
  },
  {
   "cell_type": "code",
   "execution_count": 77,
   "id": "899a862d",
   "metadata": {},
   "outputs": [
    {
     "data": {
      "text/plain": [
       "array([[4, 5],\n",
       "       [5, 6]])"
      ]
     },
     "execution_count": 77,
     "metadata": {},
     "output_type": "execute_result"
    }
   ],
   "source": [
    "#print the whole specific dimension\n",
    "#print the 2nd Element of the second dimension\n",
    "\n",
    "list3d[:,1,:]"
   ]
  },
  {
   "cell_type": "code",
   "execution_count": 82,
   "id": "48da5fd4",
   "metadata": {},
   "outputs": [
    {
     "name": "stdout",
     "output_type": "stream",
     "text": [
      "[[4 5]\n",
      " [5 6]\n",
      " [7 8]]\n",
      "\n",
      " or \n",
      "\n",
      "___________________ \n",
      "\n",
      "\n",
      "[[4 5]\n",
      " [5 6]\n",
      " [7 8]]\n"
     ]
    }
   ],
   "source": [
    "#printing the 2nd element of the third dimension\n",
    "#which means that I'm printing whole 1st and 2nd \n",
    "#dim that occurs in 2nd element of the third dimension\n",
    "\n",
    "print(list3d[-1, : ,:] )\n",
    "print(\"\\n or \\n\")\n",
    "print(\"___________________ \\n\\n\")\n",
    "print(list3d[1, : , :])"
   ]
  },
  {
   "cell_type": "code",
   "execution_count": 86,
   "id": "d0cb101a",
   "metadata": {},
   "outputs": [
    {
     "data": {
      "text/plain": [
       "array([[1, 4, 3],\n",
       "       [4, 5, 7]])"
      ]
     },
     "execution_count": 86,
     "metadata": {},
     "output_type": "execute_result"
    }
   ],
   "source": [
    "#printing the first element of the first dimension\n",
    "#for which means printing whole second and third dimensions \n",
    "#that occurs in the 1st element of the frist dimension\n",
    "\n",
    "list3d[: , : , 0]"
   ]
  },
  {
   "cell_type": "code",
   "execution_count": null,
   "id": "0f547522",
   "metadata": {},
   "outputs": [],
   "source": []
  }
 ],
 "metadata": {
  "kernelspec": {
   "display_name": "Python 3 (ipykernel)",
   "language": "python",
   "name": "python3"
  },
  "language_info": {
   "codemirror_mode": {
    "name": "ipython",
    "version": 3
   },
   "file_extension": ".py",
   "mimetype": "text/x-python",
   "name": "python",
   "nbconvert_exporter": "python",
   "pygments_lexer": "ipython3",
   "version": "3.9.6"
  }
 },
 "nbformat": 4,
 "nbformat_minor": 5
}
